{
  "nbformat": 4,
  "nbformat_minor": 0,
  "metadata": {
    "colab": {
      "provenance": [],
      "authorship_tag": "ABX9TyOmXOMBNL2mmfwZEt7SyC/R",
      "include_colab_link": true
    },
    "kernelspec": {
      "name": "python3",
      "display_name": "Python 3"
    },
    "language_info": {
      "name": "python"
    }
  },
  "cells": [
    {
      "cell_type": "markdown",
      "metadata": {
        "id": "view-in-github",
        "colab_type": "text"
      },
      "source": [
        "<a href=\"https://colab.research.google.com/github/abhiverse01/DSA-Learning-Journey/blob/main/DSA_Learning_Journey.ipynb\" target=\"_parent\"><img src=\"https://colab.research.google.com/assets/colab-badge.svg\" alt=\"Open In Colab\"/></a>"
      ]
    },
    {
      "cell_type": "markdown",
      "source": [
        "# **DSA-Learning-Journey**\n",
        "\n",
        "This colab notebook is compiled by collecting all the code snippets, resources and accessories I used to learn Industry-level DSA (Data Structures and Algorithms).\n",
        "\n",
        "It can work as an effective resource for anyone starting their DSA Journey or an expert might be looking to jog their memory regarding their DSA concepts. The code examples are in Python Programming Language, so, it is recommended to understand basics to intermediate Python concepts before going through this Notebook.\n",
        "\n",
        "## Happy DSA Learning!\n",
        "\n",
        "\n",
        "Name: **Abhishek Shah**\n",
        "\n",
        "Mail Me: **www.abhishekshah007@gmail.com**\n",
        "\n",
        "GitHub Repo Link: **https://github.com/abhiverse01/DSA-Learning-Journey/tree/main**\n"
      ],
      "metadata": {
        "id": "hU1qLYtkGcMb"
      }
    },
    {
      "cell_type": "markdown",
      "source": [
        "# Linked Lists"
      ],
      "metadata": {
        "id": "AagpRl-hP5_Q"
      }
    },
    {
      "cell_type": "code",
      "execution_count": 1,
      "metadata": {
        "id": "5YVxuhtlGYU-"
      },
      "outputs": [],
      "source": [
        "# Here's the code implementation for linked lists\n",
        "\n",
        "class Node: # we create a class to create the nodes of the linked list\n",
        "  def __init__(self, value): # this is the constructor. it means when an object of this class is constructed, the values to the constructor is also allocated during that allocation instant\n",
        "    self.data = value # in the node of a linked list, the data is pointed from here\n",
        "    self.next = None #  the address to the next node is pointed by the next value and for now it is set to None.\n",
        "\n"
      ]
    },
    {
      "cell_type": "code",
      "source": [
        "# From the class we created, let's create some nodes and give it data, however, let's not link these nodes together yet.\n",
        "\n",
        "a = Node(1) # we created an object from the node class and this value is assigned by the constructor to its, value while the next value is kept as None by default.\n",
        "# similarly\n",
        "b = Node(2)\n",
        "c = Node(3)\n",
        "\n",
        "print(a.data)\n",
        "print(b.data)\n",
        "print(c.data)\n",
        "\n"
      ],
      "metadata": {
        "colab": {
          "base_uri": "https://localhost:8080/"
        },
        "id": "yCR9V-vMRBhg",
        "outputId": "dc20fa02-b8b7-40f9-ce88-a3ae2994c7f0"
      },
      "execution_count": 2,
      "outputs": [
        {
          "output_type": "stream",
          "name": "stdout",
          "text": [
            "1\n",
            "2\n",
            "3\n"
          ]
        }
      ]
    },
    {
      "cell_type": "code",
      "source": [
        "# Also, let's connect these nodes now\n",
        "\n",
        "a.next = b # here, for the node a, the node next to it is assigned as b\n",
        "b.next = c # similarly, for the node b, the node next to it is assigned as c\n",
        "\n",
        "print(a.next) # this will give the next address pointed by a.next i.e., where node b is located.\n",
        "print(b.next) # this will similarly point to the address of c\n",
        "print(c.next) # this will point to None.\n"
      ],
      "metadata": {
        "colab": {
          "base_uri": "https://localhost:8080/"
        },
        "id": "PuxFgXj-SI5g",
        "outputId": "f20dcb52-4b55-4567-b9b7-f3ddd8c82e5b"
      },
      "execution_count": 4,
      "outputs": [
        {
          "output_type": "stream",
          "name": "stdout",
          "text": [
            "<__main__.Node object at 0x7a8bbbab0880>\n",
            "<__main__.Node object at 0x7a8bbbab1660>\n",
            "None\n"
          ]
        }
      ]
    },
    {
      "cell_type": "code",
      "source": [
        "# Here's how we can do a circular linked list\n",
        "\n",
        "c.next = a # now for all the nodes a>b, b>c, and c>a\n",
        "print(a.next)\n",
        "print(b.next)\n",
        "print(c.next)"
      ],
      "metadata": {
        "colab": {
          "base_uri": "https://localhost:8080/"
        },
        "id": "D0FkVXrlSUwK",
        "outputId": "8b943b67-894d-4bf8-f58d-d079b3c21858"
      },
      "execution_count": 6,
      "outputs": [
        {
          "output_type": "stream",
          "name": "stdout",
          "text": [
            "<__main__.Node object at 0x7a8bbbab0880>\n",
            "<__main__.Node object at 0x7a8bbbab1660>\n",
            "<__main__.Node object at 0x7a8bbbab0df0>\n"
          ]
        }
      ]
    },
    {
      "cell_type": "code",
      "source": [
        "class Node:\n",
        "    def __init__(self, value):\n",
        "        self.data = value\n",
        "        self.next = None\n",
        "\n",
        "class LinkedList:\n",
        "    def __init__(self):\n",
        "        self.head = None\n",
        "        self.length = 0\n",
        "\n",
        "    def __len__(self):\n",
        "        return self.length\n",
        "\n",
        "    def insert_head(self, value):\n",
        "        new_node = Node(value)\n",
        "        new_node.next = self.head\n",
        "        self.head = new_node\n",
        "        self.length += 1\n",
        "\n",
        "    def __str__(self):\n",
        "        current = self.head\n",
        "        result = ''\n",
        "        while current:\n",
        "            result += str(current.data) + '-->'\n",
        "            current = current.next\n",
        "        return result[:-3]  # remove the last arrow\n",
        "\n",
        "    def append(self, value):\n",
        "        new_node = Node(value)\n",
        "        if self.head is None:\n",
        "            self.head = new_node\n",
        "        else:\n",
        "            current = self.head\n",
        "            while current.next:\n",
        "                current = current.next\n",
        "            current.next = new_node\n",
        "        self.length += 1\n",
        "\n",
        "    def insert_after(self, value, prev_node):\n",
        "        current = self.head\n",
        "        while current:\n",
        "            if current.data == prev_node:\n",
        "                new_node = Node(value)\n",
        "                new_node.next = current.next\n",
        "                current.next = new_node\n",
        "                self.length += 1\n",
        "                return\n",
        "            current = current.next\n",
        "        return 'Node not found'\n",
        "\n",
        "    def clear(self):\n",
        "        self.head = None\n",
        "        self.length = 0\n",
        "\n",
        "    def delete_head(self):\n",
        "        if self.head is None:\n",
        "            return 'Empty LL'\n",
        "        self.head = self.head.next\n",
        "        self.length -= 1\n",
        "\n",
        "    def pop(self):\n",
        "        if self.head is None:\n",
        "            return 'Empty LL'\n",
        "        current = self.head\n",
        "        if current.next is None:\n",
        "            self.head = None\n",
        "        else:\n",
        "            while current.next.next:\n",
        "                current = current.next\n",
        "            current.next = None\n",
        "        self.length -= 1\n",
        "\n",
        "    def remove(self, value):\n",
        "        if self.head is None:\n",
        "            return 'Empty LL'\n",
        "        if self.head.data == value:\n",
        "            return self.delete_head()\n",
        "        current = self.head\n",
        "        while current.next:\n",
        "            if current.next.data == value:\n",
        "                current.next = current.next.next\n",
        "                self.length -= 1\n",
        "                return\n",
        "            current = current.next\n",
        "        return 'Node not found'\n",
        "\n",
        "    def search(self, item):\n",
        "        current = self.head\n",
        "        pos = 0\n",
        "        while current:\n",
        "            if current.data == item:\n",
        "                return pos\n",
        "            current = current.next\n",
        "            pos += 1\n",
        "        return 'Not Found'\n",
        "\n",
        "    def __getitem__(self, index):\n",
        "        current = self.head\n",
        "        pos = 0\n",
        "        while current:\n",
        "            if pos == index:\n",
        "                return current.data\n",
        "            current = current.next\n",
        "            pos += 1\n",
        "        return 'Not Found'\n"
      ],
      "metadata": {
        "id": "viYf_OKkTA3w"
      },
      "execution_count": 12,
      "outputs": []
    },
    {
      "cell_type": "code",
      "source": [
        "L = LinkedList()\n",
        "L.append(1)\n",
        "L.append(2)\n",
        "L.append(3)\n",
        "\n",
        "print(L)"
      ],
      "metadata": {
        "colab": {
          "base_uri": "https://localhost:8080/"
        },
        "id": "_JdNxUFQWjq4",
        "outputId": "a9cfdaee-667b-4631-fa87-25c3f3ec699c"
      },
      "execution_count": 13,
      "outputs": [
        {
          "output_type": "stream",
          "name": "stdout",
          "text": [
            "1-->2-->3\n"
          ]
        }
      ]
    },
    {
      "cell_type": "code",
      "source": [
        "L.delete_head()\n",
        "L.insert_head(4)\n",
        "\n",
        "print(L)"
      ],
      "metadata": {
        "colab": {
          "base_uri": "https://localhost:8080/"
        },
        "id": "cIVA4M4HWmVI",
        "outputId": "493fa444-0cce-4f02-9a6d-24dcd9c898ee"
      },
      "execution_count": 14,
      "outputs": [
        {
          "output_type": "stream",
          "name": "stdout",
          "text": [
            "4-->2-->3\n"
          ]
        }
      ]
    },
    {
      "cell_type": "code",
      "source": [
        "L[4]\n"
      ],
      "metadata": {
        "colab": {
          "base_uri": "https://localhost:8080/",
          "height": 35
        },
        "id": "enw9w32oXLp7",
        "outputId": "fec86325-34ed-4880-aa39-63f1942055fb"
      },
      "execution_count": 15,
      "outputs": [
        {
          "output_type": "execute_result",
          "data": {
            "text/plain": [
              "'Not Found'"
            ],
            "application/vnd.google.colaboratory.intrinsic+json": {
              "type": "string"
            }
          },
          "metadata": {},
          "execution_count": 15
        }
      ]
    },
    {
      "cell_type": "code",
      "source": [],
      "metadata": {
        "id": "OEJfbg34XQbZ"
      },
      "execution_count": null,
      "outputs": []
    }
  ]
}