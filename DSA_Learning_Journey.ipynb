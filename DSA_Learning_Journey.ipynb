{
  "nbformat": 4,
  "nbformat_minor": 0,
  "metadata": {
    "colab": {
      "provenance": [],
      "authorship_tag": "ABX9TyP+OVmN+a8mml1li0yRuv3T",
      "include_colab_link": true
    },
    "kernelspec": {
      "name": "python3",
      "display_name": "Python 3"
    },
    "language_info": {
      "name": "python"
    }
  },
  "cells": [
    {
      "cell_type": "markdown",
      "metadata": {
        "id": "view-in-github",
        "colab_type": "text"
      },
      "source": [
        "<a href=\"https://colab.research.google.com/github/abhiverse01/DSA-Learning-Journey/blob/main/DSA_Learning_Journey.ipynb\" target=\"_parent\"><img src=\"https://colab.research.google.com/assets/colab-badge.svg\" alt=\"Open In Colab\"/></a>"
      ]
    },
    {
      "cell_type": "markdown",
      "source": [
        "# **DSA-Learning-Journey**\n",
        "\n",
        "This colab notebook is compiled by collecting all the code snippets, resources and accessories I used to learn Industry-level DSA (Data Structures and Algorithms).\n",
        "\n",
        "It can work as an effective resource for anyone starting their DSA Journey or an expert might be looking to jog their memory regarding their DSA concepts. The code examples are in Python Programming Language, so, it is recommended to understand basics to intermediate Python concepts before going through this Notebook.\n",
        "\n",
        "## Happy DSA Learning!\n",
        "\n",
        "\n",
        "Name: **Abhishek Shah**\n",
        "\n",
        "Mail Me: **www.abhishekshah007@gmail.com**\n",
        "\n",
        "GitHub Repo Link:\n"
      ],
      "metadata": {
        "id": "hU1qLYtkGcMb"
      }
    },
    {
      "cell_type": "code",
      "execution_count": null,
      "metadata": {
        "id": "5YVxuhtlGYU-"
      },
      "outputs": [],
      "source": []
    }
  ]
}